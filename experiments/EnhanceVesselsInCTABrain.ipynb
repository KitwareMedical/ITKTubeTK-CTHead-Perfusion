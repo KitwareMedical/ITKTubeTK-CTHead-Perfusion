{
 "cells": [
  {
   "cell_type": "markdown",
   "metadata": {},
   "source": [
    "This notebook is intended to demonstrate how to extract vessels from a CTA image that contains only brain data (skull has been stripped)."
   ]
  },
  {
   "cell_type": "code",
   "execution_count": 1,
   "metadata": {},
   "outputs": [],
   "source": [
    "import itk\n",
    "from itk import TubeTK as ttk\n",
    "\n",
    "from itkwidgets import view\n",
    "\n",
    "import numpy as np"
   ]
  },
  {
   "cell_type": "code",
   "execution_count": 2,
   "metadata": {},
   "outputs": [],
   "source": [
    "InputBaseDir = \"E:/UNC-Stroke/UNC/CTP/CTAT-001-CTA/\"\n",
    "\n",
    "CTAFilename = InputBaseDir + \"CTA.mha\"\n",
    "CTABrainFilename = InputBaseDir + \"CTA-Brain.mha\"\n",
    "\n",
    "imMax = itk.imread(CTAFilename, itk.F)\n",
    "imBrain = itk.imread(CTABrainFilename, itk.F)"
   ]
  },
  {
   "cell_type": "code",
   "execution_count": 3,
   "metadata": {},
   "outputs": [
    {
     "data": {
      "application/vnd.jupyter.widget-view+json": {
       "model_id": "b92f40295d5e432e8eea005e9060e244",
       "version_major": 2,
       "version_minor": 0
      },
      "text/plain": [
       "Viewer(geometries=[], gradient_opacity=0.22, point_sets=[], rendered_image=<itk.itkImagePython.itkImageF3; pro…"
      ]
     },
     "metadata": {},
     "output_type": "display_data"
    }
   ],
   "source": [
    "view(imBrain)"
   ]
  },
  {
   "cell_type": "code",
   "execution_count": 4,
   "metadata": {},
   "outputs": [],
   "source": [
    "ImageType = itk.Image[itk.F, 3]\n",
    "\n",
    "imMath = ttk.ImageMath.New(Input=imBrain)\n",
    "imMath.Threshold( 0.00001, 4000, 1, 0)\n",
    "imMath.Erode(10,1,0)\n",
    "imBrainMaskErode = imMath.GetOutput()\n",
    "imMath.SetInput(imBrain)\n",
    "imMath.IntensityWindow(0,300,0,300)\n",
    "imMath.ReplaceValuesOutsideMaskRange(imBrainMaskErode,0.5,1.5,0)\n",
    "imBrainErode = imMath.GetOutput()"
   ]
  },
  {
   "cell_type": "code",
   "execution_count": 5,
   "metadata": {},
   "outputs": [
    {
     "data": {
      "application/vnd.jupyter.widget-view+json": {
       "model_id": "767724470a6b4a71a26e122b8ed18df4",
       "version_major": 2,
       "version_minor": 0
      },
      "text/plain": [
       "Viewer(geometries=[], gradient_opacity=0.22, point_sets=[], rendered_image=<itk.itkImagePython.itkImageF3; pro…"
      ]
     },
     "metadata": {},
     "output_type": "display_data"
    }
   ],
   "source": [
    "view(imBrainErode)"
   ]
  },
  {
   "cell_type": "code",
   "execution_count": 6,
   "metadata": {
    "scrolled": true
   },
   "outputs": [
    {
     "name": "stdout",
     "output_type": "stream",
     "text": [
      "[[  -1.08078575 -149.83951759   -9.45075989]\n",
      " [  -5.04153061 -137.95728302   -7.75329781]\n",
      " [ -28.80599976 -145.31295204  -19.63553238]\n",
      " [  -2.77824783 -128.90415192  -19.63553238]\n",
      " [  -1.64660645 -125.50922775  -32.64940834]\n",
      " [ -18.05540657 -130.601614    -23.03045654]\n",
      " [ -44.64897919 -179.82801437    4.69475746]\n",
      " [ -48.04390335 -145.87877274  -20.20135307]\n",
      " [  -9.00227547 -101.74475861  -15.10896683]\n",
      " [   1.74831772 -109.10042763  -27.55702209]\n",
      " [ -14.66048241 -137.95728302  -38.87343597]\n",
      " [ -59.92613792 -148.70787621   -3.22673225]\n",
      " [ -53.70211029 -124.94340706  -14.54314613]\n",
      " [ -49.17554474 -131.16743469  -28.12284279]\n",
      " [ -32.20092392 -117.02191734  -38.30761528]]\n"
     ]
    }
   ],
   "source": [
    "imMath = ttk.ImageMath[ImageType,ImageType].New()\n",
    "imMath.SetInput(imBrainErode)\n",
    "imMath.Blur(1.5)\n",
    "imBlur = imMath.GetOutput()\n",
    "imBlurArray = itk.GetArrayViewFromImage(imBlur)\n",
    "\n",
    "numSeeds = 15\n",
    "seedCoverage = 20\n",
    "seedCoord = np.zeros([numSeeds,3])\n",
    "for i in range(numSeeds):\n",
    "    seedCoord[i] = np.unravel_index(np.argmax(imBlurArray, axis=None), imBlurArray.shape)\n",
    "    indx = [int(seedCoord[i][0]),int(seedCoord[i][1]),int(seedCoord[i][2])]\n",
    "    minX = max(indx[0]-seedCoverage,0)\n",
    "    maxX = max(indx[0]+seedCoverage,imBlurArray.shape[0])\n",
    "    minY = max(indx[1]-seedCoverage,0)\n",
    "    maxY = max(indx[1]+seedCoverage,imBlurArray.shape[1])\n",
    "    minZ = max(indx[2]-seedCoverage,0)\n",
    "    maxZ = max(indx[2]+seedCoverage,imBlurArray.shape[2])\n",
    "    imBlurArray[minX:maxX,minY:maxY,minZ:maxZ]=0\n",
    "    indx.reverse()\n",
    "    seedCoord[:][i] = imBrain.TransformIndexToPhysicalPoint(indx)\n",
    "print(seedCoord)"
   ]
  },
  {
   "cell_type": "code",
   "execution_count": 7,
   "metadata": {},
   "outputs": [
    {
     "name": "stdout",
     "output_type": "stream",
     "text": [
      "**** Processing seed 0 : [  -1.08078575 -149.83951759   -9.45075989]\n",
      "**** Processing seed 1 : [  -5.04153061 -137.95728302   -7.75329781]\n",
      "**** Processing seed 2 : [ -28.80599976 -145.31295204  -19.63553238]\n",
      "**** Processing seed 3 : [  -2.77824783 -128.90415192  -19.63553238]\n",
      "**** Processing seed 4 : [  -1.64660645 -125.50922775  -32.64940834]\n",
      "**** Processing seed 5 : [ -18.05540657 -130.601614    -23.03045654]\n",
      "**** Processing seed 6 : [ -44.64897919 -179.82801437    4.69475746]\n",
      "**** Processing seed 7 : [ -48.04390335 -145.87877274  -20.20135307]\n",
      "**** Processing seed 8 : [  -9.00227547 -101.74475861  -15.10896683]\n",
      "**** Processing seed 9 : [   1.74831772 -109.10042763  -27.55702209]\n",
      "**** Processing seed 10 : [ -14.66048241 -137.95728302  -38.87343597]\n",
      "**** Processing seed 11 : [ -59.92613792 -148.70787621   -3.22673225]\n",
      "**** Processing seed 12 : [ -53.70211029 -124.94340706  -14.54314613]\n",
      "**** Processing seed 13 : [ -49.17554474 -131.16743469  -28.12284279]\n",
      "**** Processing seed 14 : [ -32.20092392 -117.02191734  -38.30761528]\n"
     ]
    }
   ],
   "source": [
    "# Manually extract a few vessels to form an image-specific training set\n",
    "vSeg = ttk.SegmentTubes.New(Input=imBrain)\n",
    "vSeg.SetVerbose(True)\n",
    "vSeg.SetMinRoundness(0.4)\n",
    "vSeg.SetMinCurvature(0.002)\n",
    "vSeg.SetRadiusInObjectSpace( 1 )\n",
    "for i in range(numSeeds):\n",
    "    print(\"**** Processing seed \" + str(i) + \" : \" + str(seedCoord[i]))\n",
    "    vSeg.ExtractTubeInObjectSpace( seedCoord[i], i )\n",
    "    \n",
    "tubeMaskImage = vSeg.GetTubeMaskImage()"
   ]
  },
  {
   "cell_type": "code",
   "execution_count": 8,
   "metadata": {},
   "outputs": [
    {
     "data": {
      "application/vnd.jupyter.widget-view+json": {
       "model_id": "a4dc9e88f69e49e389aa4ba113fe0176",
       "version_major": 2,
       "version_minor": 0
      },
      "text/plain": [
       "Viewer(geometries=[], gradient_opacity=0.22, point_sets=[], rendered_image=<itk.itkImagePython.itkImageF3; pro…"
      ]
     },
     "metadata": {},
     "output_type": "display_data"
    }
   ],
   "source": [
    "imMath.SetInput(tubeMaskImage)\n",
    "imMath.AddImages(imBrain, 200, 1)\n",
    "blendIm = imMath.GetOutput()\n",
    "view(blendIm)"
   ]
  },
  {
   "cell_type": "code",
   "execution_count": 9,
   "metadata": {},
   "outputs": [],
   "source": [
    "LabelMapType = itk.Image[itk.UC,3]\n",
    "\n",
    "trMask = ttk.ComputeTrainingMask[ImageType,LabelMapType].New()\n",
    "trMask.SetInput( tubeMaskImage )\n",
    "trMask.SetGap( 4 )\n",
    "trMask.SetObjectWidth( 1 )\n",
    "trMask.SetNotObjectWidth( 1 )\n",
    "trMask.Update()\n",
    "fgMask = trMask.GetOutput()"
   ]
  },
  {
   "cell_type": "code",
   "execution_count": 10,
   "metadata": {},
   "outputs": [
    {
     "data": {
      "application/vnd.jupyter.widget-view+json": {
       "model_id": "cf86f9394bc9401ca0fb2ae9542cffd3",
       "version_major": 2,
       "version_minor": 0
      },
      "text/plain": [
       "Viewer(geometries=[], gradient_opacity=0.22, point_sets=[], rendered_image=<itk.itkImagePython.itkImageUC3; pr…"
      ]
     },
     "metadata": {},
     "output_type": "display_data"
    }
   ],
   "source": [
    "view(fgMask)"
   ]
  },
  {
   "cell_type": "code",
   "execution_count": 11,
   "metadata": {},
   "outputs": [],
   "source": [
    "enhancer = ttk.EnhanceTubesUsingDiscriminantAnalysis[ImageType,LabelMapType].New()\n",
    "enhancer.AddInput( imMax )\n",
    "enhancer.SetLabelMap( fgMask )\n",
    "enhancer.SetRidgeId( 255 )\n",
    "enhancer.SetBackgroundId( 128 )\n",
    "enhancer.SetUnknownId( 0 )\n",
    "enhancer.SetTrainClassifier(True)\n",
    "enhancer.SetUseIntensityOnly(True)\n",
    "enhancer.SetScales([0.43,1.29,3.01])\n",
    "enhancer.Update()\n",
    "enhancer.ClassifyImages()"
   ]
  },
  {
   "cell_type": "code",
   "execution_count": 12,
   "metadata": {
    "scrolled": true
   },
   "outputs": [
    {
     "data": {
      "application/vnd.jupyter.widget-view+json": {
       "model_id": "b2f402ad66f24db685275a56c071f4ef",
       "version_major": 2,
       "version_minor": 0
      },
      "text/plain": [
       "Viewer(geometries=[], gradient_opacity=0.22, point_sets=[], rendered_image=<itk.itkImagePython.itkImageF3; pro…"
      ]
     },
     "metadata": {},
     "output_type": "display_data"
    }
   ],
   "source": [
    "im1vess = itk.SubtractImageFilter( Input1=enhancer.GetClassProbabilityImage(0), Input2=enhancer.GetClassProbabilityImage(1))\n",
    "\n",
    "imMath.SetInput(imBrain)\n",
    "imMath.Threshold(0.0001,2000,1,0)\n",
    "imMath.Erode(2,1,0)\n",
    "imBrainE = imMath.GetOutput()\n",
    "\n",
    "imMath.SetInput(im1vess)\n",
    "imMath.ReplaceValuesOutsideMaskRange(imBrainE, 1, 1, -0.001)\n",
    "im1vessBrain = imMath.GetOutput()\n",
    "#view(enhancer.GetClassProbabilityImage(0))\n",
    "view(im1vessBrain)"
   ]
  },
  {
   "cell_type": "code",
   "execution_count": 13,
   "metadata": {},
   "outputs": [],
   "source": [
    "itk.imwrite( im1vess, InputBaseDir + \"CTA-VesselEnhanced.mha\", compression=True)\n",
    "\n",
    "itk.imwrite( im1vessBrain, InputBaseDir + \"CTA-Brain-VesselEnhanced.mha\", compression=True)"
   ]
  },
  {
   "cell_type": "code",
   "execution_count": null,
   "metadata": {},
   "outputs": [],
   "source": []
  }
 ],
 "metadata": {
  "kernelspec": {
   "display_name": "Python 3",
   "language": "python",
   "name": "python3"
  },
  "language_info": {
   "codemirror_mode": {
    "name": "ipython",
    "version": 3
   },
   "file_extension": ".py",
   "mimetype": "text/x-python",
   "name": "python",
   "nbconvert_exporter": "python",
   "pygments_lexer": "ipython3",
   "version": "3.7.10"
  }
 },
 "nbformat": 4,
 "nbformat_minor": 2
}
